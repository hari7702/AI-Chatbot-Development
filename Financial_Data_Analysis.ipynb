{
 "cells": [
  {
   "cell_type": "markdown",
   "id": "2ead0b81",
   "metadata": {},
   "source": [
    "\n",
    "# Financial Data Analysis for Companies A, B, and X\n",
    "\n",
    "## Introduction\n",
    "In this analysis, we explore the financial data of three companies (Company A, Company B, and Company X) over the last three fiscal years. The focus is on key financial metrics, including Operating Revenue, Operating Expenses, EBITDA, Net Interest Expense, and Taxation. We calculate year-over-year growth for these metrics to identify trends and insights that could inform future decision-making or the development of financial tools.\n",
    "\n",
    "## Methodology\n",
    "1. **Data Extraction**: Financial data for the last three fiscal years was extracted from the provided dataset.\n",
    "2. **Data Cleaning**: The data was cleaned and organized to ensure that it is in a usable format for analysis.\n",
    "3. **Data Analysis**: We calculated year-over-year growth percentages for key financial metrics.\n",
    "    "
   ]
  },
  {
   "cell_type": "code",
   "execution_count": null,
   "id": "b3beab14",
   "metadata": {},
   "outputs": [],
   "source": [
    "\n",
    "import pandas as pd\n",
    "\n",
    "# Load the dataset\n",
    "df = pd.read_csv('financial_data_analysis.csv')\n",
    "\n",
    "# Pivot the data so each metric becomes a separate column for calculations\n",
    "df_pivot = df.pivot(index='Company', columns='Metric', values=['Year 0', 'Year 1', 'Year 2'])\n",
    "\n",
    "# Flatten the multi-index columns\n",
    "df_pivot.columns = ['_'.join(col).strip() for col in df_pivot.columns.values]\n",
    "\n",
    "# Calculate year-over-year growth for key financial metrics\n",
    "df_pivot['Revenue Growth (%)'] = (df_pivot['Year 2_Operating revenue'] - df_pivot['Year 1_Operating revenue']) / df_pivot['Year 1_Operating revenue'] * 100\n",
    "df_pivot['Net Income Growth (%)'] = (df_pivot['Year 2_EBITDA'] - df_pivot['Year 1_EBITDA']) / df_pivot['Year 1_EBITDA'] * 100\n",
    "df_pivot['Total Assets Growth (%)'] = (df_pivot['Year 2_Operating expenses'] - df_pivot['Year 1_Operating expenses']) / df_pivot['Year 1_Operating expenses'] * 100\n",
    "df_pivot['Total Liabilities Growth (%)'] = (df_pivot['Year 2_Net interest expense'] - df_pivot['Year 1_Net interest expense']) / df_pivot['Year 1_Net interest expense'] * 100\n",
    "df_pivot['Cash Flow Growth (%)'] = (df_pivot['Year 2_Taxation'] - df_pivot['Year 1_Taxation']) / df_pivot['Year 1_Taxation'] * 100\n",
    "\n",
    "# Display the calculated growth percentages\n",
    "df_pivot[['Revenue Growth (%)', 'Net Income Growth (%)', 'Total Assets Growth (%)', 'Total Liabilities Growth (%)', 'Cash Flow Growth (%)']]\n",
    "    "
   ]
  },
  {
   "cell_type": "markdown",
   "id": "ec9669f6",
   "metadata": {},
   "source": [
    "\n",
    "## Observations\n",
    "- **Company A** shows positive growth across all metrics, with notable revenue and net income growth.\n",
    "- **Company B** displays a mix of positive and negative growth, with a slight decline in revenue and net income.\n",
    "- **Company X** lacks sufficient data for a meaningful analysis of growth trends.\n",
    "\n",
    "## Conclusion\n",
    "This analysis provides an overview of the financial performance of the three companies. The trends identified here could be valuable for financial forecasting, strategic planning, or the development of AI-driven financial tools. Further analysis could incorporate more detailed financial metrics or a broader dataset to gain deeper insights.\n",
    "    "
   ]
  }
 ],
 "metadata": {},
 "nbformat": 4,
 "nbformat_minor": 5
}
